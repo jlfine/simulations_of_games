{
 "cells": [
  {
   "cell_type": "markdown",
   "metadata": {},
   "source": [
    "## Simulation of all possible unique Tic-Tac-Toe games\n",
    "\n",
    "\n",
    "Jacob L. Fine\n",
    "\n",
    "April 20th, 2024\n",
    "\n",
    "\n",
    "In M,n,k games, each player is a differnet symbol must obtain k symbols of their type in a row, column, or diagonal, on a matrix that is m x n. Tic-tac-toe is an example of an M,n,k game (with M,n,k = 3) (see: https://en.wikipedia.org/wiki/M,n,k-game) with properties that may be explored computationally. Connect 4 is another examlpe of an M,n,k game with (m=6,n=7,k=4)\n",
    "\n",
    "This code will compute the board states of all possible tic-tac-toe games, and returns the number of unqiue games and the winners of each game (first mover, second mover). It can be shown that there exist 255168 possible unique tic-tac-toe games, and that the first mover has the advantage. Specifically, if the first mover is 'O', we will obtain the win_O : win_X : draw ratio to be 131184 : 77904 : 46080\n",
    "\n",
    "This code will therefore reproduce the results of Table 2 of Z.M.K. Zuhri (2022); ref: https://informatika.stei.itb.ac.id/~rinaldi.munir/Matdis/2021-2022/Makalah2021/Makalah-Matdis-2021%20(148).pdf\n"
   ]
  },
  {
   "cell_type": "code",
   "execution_count": 1,
   "metadata": {},
   "outputs": [
    {
     "name": "stdout",
     "output_type": "stream",
     "text": [
      "Outcomes:\n",
      "{'O': 131184, 'X': 77904, 'Draw': 46080}\n",
      "Total unique games:\n",
      "255168\n"
     ]
    }
   ],
   "source": [
    "class TicTacToeGame:\n",
    "    # initializes the board, sets the size and chooses the first player (set to O)\n",
    "    def __init__(self, board_size=3, first_player='O'):\n",
    "        self.BOARD_SIZE = board_size\n",
    "        self.first_player = first_player\n",
    "        self.game_states = []\n",
    "        self.scores = {}\n",
    "\n",
    "    # a function to check each possible place in the board where there could be a winner: each row, each col, and each diagonal\n",
    "    def check_if_board_is_winning(self, board, player):\n",
    "        # checks the ROWS for a winner, and sets check_winner to True\n",
    "        for row in board:\n",
    "            if all(cell == player for cell in row):\n",
    "                return True\n",
    "\n",
    "        # checks the COLS for a winner, and sets check_winner to True\n",
    "        for col in range(self.BOARD_SIZE):\n",
    "            if all(board[row][col] == player for row in range(self.BOARD_SIZE)):\n",
    "                return True\n",
    "\n",
    "        # checks the DIAGS for a winner, and sets check_winner to True\n",
    "        if all(board[i][i] == player for i in range(self.BOARD_SIZE)) or \\\n",
    "           all(board[i][self.BOARD_SIZE - 1 - i] == player for i in range(self.BOARD_SIZE)):\n",
    "            return True\n",
    "\n",
    "        return False\n",
    "\n",
    "    # checks if the current board is full, returns True if so\n",
    "    def check_if_board_full(self, board):\n",
    "        return all(cell != ' ' for row in board for cell in row)\n",
    "\n",
    "    # generates all possible TTT game states, given the first initalized empty 3x3 board and the first player, using a helper function\n",
    "    def make_all_game_states(self):\n",
    "        # calls the helper function first at the current state being an empty 3x3 board\n",
    "        self.generate_states_helper([[' ' for _ in range(self.BOARD_SIZE)] for _ in range(self.BOARD_SIZE)], self.first_player)\n",
    "    \n",
    "    # uses a helper function to check if the current state has a winner, after checking, it generates a copy of the previous state, and updates the current row, col value with the player letter (X/O)\n",
    "    def generate_states_helper(self, current_state, player):\n",
    "\n",
    "        # appends the final game state and the current winner to the list of final game states; converts the matrix representations of boards to strings for storing final board states\n",
    "        if self.check_if_board_is_winning(current_state, 'O'):  \n",
    "            self.game_states.append((''.join(cell for row in current_state for cell in row), 'O'))\n",
    "            return\n",
    "        elif self.check_if_board_is_winning(current_state, 'X'):\n",
    "            self.game_states.append((''.join(cell for row in current_state for cell in row), 'X'))\n",
    "            return\n",
    "        \n",
    "        # if the board is full but no winner has been attained, it will return a draw\n",
    "        elif self.check_if_board_full(current_state):  \n",
    "            self.game_states.append((''.join(cell for row in current_state for cell in row), 'Draw'))\n",
    "            return\n",
    "        # goes through all possible starting positions, and explores game states that stem from that starting position\n",
    "        for row in range(self.BOARD_SIZE):\n",
    "            for col in range(self.BOARD_SIZE):\n",
    "\n",
    "                # checks if the current row,col value is blank in the TTT board\n",
    "                if current_state[row][col] == ' ':\n",
    "                    # generates a copy of the current state, and updates it with the player logo, if this board happens to be a winning board it will not overwrite the current_state\n",
    "                    new_state = [list(row) for row in current_state]\n",
    "                    new_state[row][col] = player\n",
    "                    # will use recrusion to explore all new_state paths for a given starting position until the board is filled for that starting position\n",
    "                    self.generate_states_helper(new_state, 'X' if player == 'O' else 'O')\n",
    "\n",
    "    # computes the scores\n",
    "    def compute_winners(self):\n",
    "        self.scores = {player: sum(1 for _, winner in self.game_states if winner == player) for player in ['O', 'X', 'Draw']}\n",
    "        print('Outcomes:')\n",
    "        print(self.scores)\n",
    "\n",
    "    # computes the number of unique games\n",
    "    def print_winners(self):\n",
    "        total_unique_games = sum(self.scores.values())\n",
    "        print('Total unique games:')\n",
    "        print(total_unique_games)\n",
    "\n",
    "# create an instance of the tic tac toe game\n",
    "tic_tac_toe = TicTacToeGame()\n",
    "\n",
    "# generate unique game states\n",
    "tic_tac_toe.make_all_game_states()\n",
    "\n",
    "# calculate scores\n",
    "tic_tac_toe.compute_winners()\n",
    "tic_tac_toe.print_winners()\n"
   ]
  },
  {
   "cell_type": "markdown",
   "metadata": {},
   "source": [
    "As can be seen, the outcomes match the literature values from Z.M.K. Zuhri (2022)!"
   ]
  }
 ],
 "metadata": {
  "kernelspec": {
   "display_name": "Python 3",
   "language": "python",
   "name": "python3"
  },
  "language_info": {
   "codemirror_mode": {
    "name": "ipython",
    "version": 3
   },
   "file_extension": ".py",
   "mimetype": "text/x-python",
   "name": "python",
   "nbconvert_exporter": "python",
   "pygments_lexer": "ipython3",
   "version": "3.9.6"
  }
 },
 "nbformat": 4,
 "nbformat_minor": 2
}
